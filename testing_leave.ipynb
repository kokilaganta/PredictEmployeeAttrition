{
 "cells": [
  {
   "cell_type": "code",
   "execution_count": 1,
   "id": "95d25cdf",
   "metadata": {},
   "outputs": [
    {
     "name": "stderr",
     "output_type": "stream",
     "text": [
      "C:\\Users\\User\\AppData\\Local\\Packages\\PythonSoftwareFoundation.Python.3.11_qbz5n2kfra8p0\\LocalCache\\local-packages\\Python311\\site-packages\\sklearn\\base.py:380: InconsistentVersionWarning: Trying to unpickle estimator DecisionTreeClassifier from version 1.5.0 when using version 1.6.1. This might lead to breaking code or invalid results. Use at your own risk. For more info please refer to:\n",
      "https://scikit-learn.org/stable/model_persistence.html#security-maintainability-limitations\n",
      "  warnings.warn(\n",
      "C:\\Users\\User\\AppData\\Local\\Packages\\PythonSoftwareFoundation.Python.3.11_qbz5n2kfra8p0\\LocalCache\\local-packages\\Python311\\site-packages\\sklearn\\base.py:380: InconsistentVersionWarning: Trying to unpickle estimator RandomForestClassifier from version 1.5.0 when using version 1.6.1. This might lead to breaking code or invalid results. Use at your own risk. For more info please refer to:\n",
      "https://scikit-learn.org/stable/model_persistence.html#security-maintainability-limitations\n",
      "  warnings.warn(\n"
     ]
    },
    {
     "name": "stdout",
     "output_type": "stream",
     "text": [
      "FOUND LEAVE:\n",
      "   satisfaction_level  last_evaluation  number_project  average_monthly_hours  \\\n",
      "0                 0.1              0.2               3                     90   \n",
      "\n",
      "   time_spend_company  Work_accident  promotion_last_5years  Department  \\\n",
      "0                   5              0                      0           4   \n",
      "\n",
      "   salary  \n",
      "0       0  \n",
      "FOUND LEAVE:\n",
      "   satisfaction_level  last_evaluation  number_project  average_monthly_hours  \\\n",
      "0                 0.1              0.3               3                     90   \n",
      "\n",
      "   time_spend_company  Work_accident  promotion_last_5years  Department  \\\n",
      "0                   5              0                      0           4   \n",
      "\n",
      "   salary  \n",
      "0       0  \n",
      "FOUND LEAVE:\n",
      "   satisfaction_level  last_evaluation  number_project  average_monthly_hours  \\\n",
      "0                 0.1              0.4               3                     90   \n",
      "\n",
      "   time_spend_company  Work_accident  promotion_last_5years  Department  \\\n",
      "0                   5              0                      0           4   \n",
      "\n",
      "   salary  \n",
      "0       0  \n",
      "No case predicted leave\n"
     ]
    }
   ],
   "source": [
    "import pickle\n",
    "import pandas as pd\n",
    "\n",
    "with open(\"final_prediction.pkl\", \"rb\") as f:\n",
    "    model = pickle.load(f)\n",
    "\n",
    "# Loop through combinations to see if any predict LEAVE\n",
    "for sat in [0.1, 0.2, 0.3]:\n",
    "    for eval in [0.2, 0.3, 0.4]:\n",
    "        for proj in [2, 3]:\n",
    "            test_input = pd.DataFrame([{\n",
    "                'satisfaction_level': sat,\n",
    "                'last_evaluation': eval,\n",
    "                'number_project': proj,\n",
    "                'average_monthly_hours': 90,\n",
    "                'time_spend_company': 5,\n",
    "                'work_accident': 0,\n",
    "                'promotion_last_5years': 0,\n",
    "                'Department': 4,\n",
    "                'salary': 0\n",
    "            }])\n",
    "\n",
    "            test_input.columns = model.feature_names_in_\n",
    "            pred = model.predict(test_input)[0]\n",
    "\n",
    "            if pred == 1:\n",
    "                print(\"FOUND LEAVE:\")\n",
    "                print(test_input)\n",
    "                break\n",
    "\n",
    "print(\"No case predicted leave\")\n"
   ]
  },
  {
   "cell_type": "code",
   "execution_count": 3,
   "id": "2558d5b9",
   "metadata": {},
   "outputs": [
    {
     "name": "stdout",
     "output_type": "stream",
     "text": [
      "Found a LEAVE prediction!\n",
      "   satisfaction_level  last_evaluation  number_project  average_monthly_hours  \\\n",
      "0                 0.1              0.2               3                     90   \n",
      "\n",
      "   time_spend_company  Work_accident  promotion_last_5years  Department  \\\n",
      "0                   5              0                      0           4   \n",
      "\n",
      "   salary  \n",
      "0       0  \n",
      "Found a LEAVE prediction!\n",
      "   satisfaction_level  last_evaluation  number_project  average_monthly_hours  \\\n",
      "0                 0.1              0.3               3                     90   \n",
      "\n",
      "   time_spend_company  Work_accident  promotion_last_5years  Department  \\\n",
      "0                   5              0                      0           4   \n",
      "\n",
      "   salary  \n",
      "0       0  \n",
      "Found a LEAVE prediction!\n",
      "   satisfaction_level  last_evaluation  number_project  average_monthly_hours  \\\n",
      "0                 0.1              0.4               3                     90   \n",
      "\n",
      "   time_spend_company  Work_accident  promotion_last_5years  Department  \\\n",
      "0                   5              0                      0           4   \n",
      "\n",
      "   salary  \n",
      "0       0  \n",
      "Total cases predicted to leave: 3\n"
     ]
    }
   ],
   "source": [
    "import pickle\n",
    "import pandas as pd\n",
    "\n",
    "# Load the trained model\n",
    "with open(\"final_prediction.pkl\", \"rb\") as f:\n",
    "    model = pickle.load(f)\n",
    "\n",
    "# Initialize a list to store the data for employees who are predicted to leave\n",
    "leaved_data = []\n",
    "\n",
    "# Loop through combinations to see if any predict LEAVE\n",
    "for sat in [0.1, 0.2, 0.3]:\n",
    "    for eval in [0.2, 0.3, 0.4]:\n",
    "        for proj in [2, 3]:\n",
    "            test_input = pd.DataFrame([{\n",
    "                'satisfaction_level': sat,\n",
    "                'last_evaluation': eval,\n",
    "                'number_project': proj,\n",
    "                'average_monthly_hours': 90,\n",
    "                'time_spend_company': 5,\n",
    "                'work_accident': 0,\n",
    "                'promotion_last_5years': 0,\n",
    "                'Department': 4,\n",
    "                'salary': 0\n",
    "            }])\n",
    "\n",
    "            # Ensure the columns match the model's expected feature names\n",
    "            test_input.columns = model.feature_names_in_\n",
    "            pred = model.predict(test_input)[0]\n",
    "\n",
    "            # If the prediction is \"Leave\", store the data\n",
    "            if pred == 1:\n",
    "                leaved_data.append(test_input)\n",
    "                print(\"Found a LEAVE prediction!\")\n",
    "                print(test_input)\n",
    "\n",
    "# After all predictions, check the length of leaved_data\n",
    "if leaved_data:\n",
    "    print(f\"Total cases predicted to leave: {len(leaved_data)}\")\n",
    "else:\n",
    "    print(\"No case predicted leave.\")\n"
   ]
  },
  {
   "cell_type": "code",
   "execution_count": null,
   "id": "c2a91a84",
   "metadata": {},
   "outputs": [
    {
     "name": "stdout",
     "output_type": "stream",
     "text": [
      "left\n",
      "0    11428\n",
      "1     3571\n",
      "Name: count, dtype: int64\n"
     ]
    }
   ],
   "source": [
    "df = pd.read_csv(\"Employee_Attrition.csv\")\n",
    "print(df['left'].value_counts())  # Or whatever the target column is"
   ]
  }
 ],
 "metadata": {
  "kernelspec": {
   "display_name": "Python 3",
   "language": "python",
   "name": "python3"
  },
  "language_info": {
   "codemirror_mode": {
    "name": "ipython",
    "version": 3
   },
   "file_extension": ".py",
   "mimetype": "text/x-python",
   "name": "python",
   "nbconvert_exporter": "python",
   "pygments_lexer": "ipython3",
   "version": "3.11.9"
  }
 },
 "nbformat": 4,
 "nbformat_minor": 5
}
