{
 "cells": [
  {
   "cell_type": "code",
   "execution_count": 1,
   "metadata": {},
   "outputs": [],
   "source": [
    "import pickle \n",
    "import pandas as pd\n",
    "from sklearn.preprocessing import LabelEncoder"
   ]
  },
  {
   "cell_type": "code",
   "execution_count": 2,
   "metadata": {},
   "outputs": [
    {
     "name": "stderr",
     "output_type": "stream",
     "text": [
      "C:\\Users\\User\\AppData\\Local\\Packages\\PythonSoftwareFoundation.Python.3.11_qbz5n2kfra8p0\\LocalCache\\local-packages\\Python311\\site-packages\\sklearn\\base.py:380: InconsistentVersionWarning: Trying to unpickle estimator DecisionTreeClassifier from version 1.5.0 when using version 1.6.1. This might lead to breaking code or invalid results. Use at your own risk. For more info please refer to:\n",
      "https://scikit-learn.org/stable/model_persistence.html#security-maintainability-limitations\n",
      "  warnings.warn(\n",
      "C:\\Users\\User\\AppData\\Local\\Packages\\PythonSoftwareFoundation.Python.3.11_qbz5n2kfra8p0\\LocalCache\\local-packages\\Python311\\site-packages\\sklearn\\base.py:380: InconsistentVersionWarning: Trying to unpickle estimator RandomForestClassifier from version 1.5.0 when using version 1.6.1. This might lead to breaking code or invalid results. Use at your own risk. For more info please refer to:\n",
      "https://scikit-learn.org/stable/model_persistence.html#security-maintainability-limitations\n",
      "  warnings.warn(\n"
     ]
    }
   ],
   "source": [
    "model=pickle.load(open('final_prediction.pkl',\"rb\"))"
   ]
  },
  {
   "cell_type": "code",
   "execution_count": 3,
   "metadata": {},
   "outputs": [],
   "source": [
    "si=pd.read_csv('test.csv')"
   ]
  },
  {
   "cell_type": "code",
   "execution_count": 4,
   "metadata": {},
   "outputs": [
    {
     "name": "stdout",
     "output_type": "stream",
     "text": [
      "   satisfaction_level  last_evaluation  number_of_projects  \\\n",
      "0               0.380             0.53                   2   \n",
      "1               0.280             0.86                   5   \n",
      "2               0.110             0.88                   7   \n",
      "3               0.720             0.87                   5   \n",
      "4               0.341             0.46                   2   \n",
      "\n",
      "   average_monthly_hours  years_at_company  work_accident  \\\n",
      "0                    157                 3              0   \n",
      "1                    262                 6              0   \n",
      "2                    272                 4              0   \n",
      "3                    223                 5              0   \n",
      "4                    128                 3              0   \n",
      "\n",
      "   promotion_last_5years  department  salary  \n",
      "0                      0       sales     low  \n",
      "1                      0       sales  medium  \n",
      "2                      0       sales  medium  \n",
      "3                      0       sales     low  \n",
      "4                      0  accounting     low  \n"
     ]
    }
   ],
   "source": [
    "# Check structure\n",
    "print(si.head())\n"
   ]
  },
  {
   "cell_type": "code",
   "execution_count": 5,
   "metadata": {},
   "outputs": [
    {
     "name": "stdout",
     "output_type": "stream",
     "text": [
      "Index(['satisfaction_level', 'last_evaluation', 'number_of_projects',\n",
      "       'average_monthly_hours', 'years_at_company', 'work_accident',\n",
      "       'promotion_last_5years', 'department', 'salary'],\n",
      "      dtype='object')\n"
     ]
    }
   ],
   "source": [
    "print(si.columns)"
   ]
  },
  {
   "cell_type": "code",
   "execution_count": 6,
   "metadata": {},
   "outputs": [],
   "source": [
    "# Rename columns to match training set\n",
    "si.rename(columns={\n",
    "    'number_of_projects': 'number_project',\n",
    "    'years_at_company': 'time_spend_company',\n",
    "    'work_accident': 'Work_accident',\n",
    "    'department': 'Department'   #  FIX HERE\n",
    "}, inplace=True)\n",
    "\n",
    "\n",
    "# Map categorical values\n",
    "salary_map = {'low': 0, 'medium': 1, 'high': 2}\n",
    "department_map = {\n",
    "    'sales': 0, 'accounting': 1, 'technical': 3, 'support': 4, 'management': 5,\n",
    "    'IT': 6, 'product_mng': 7, 'marketing': 8, 'RandD': 9, 'hr': 2\n",
    "}\n",
    "\n",
    "si['salary'] = si['salary'].map(salary_map)\n",
    "si['Department'] = si['Department'].map(department_map)  # ✅ Capital D\n"
   ]
  },
  {
   "cell_type": "code",
   "execution_count": 7,
   "metadata": {},
   "outputs": [],
   "source": [
    "expected_cols = [\n",
    "    'satisfaction_level', 'last_evaluation', 'number_project',\n",
    "    'average_monthly_hours', 'time_spend_company', 'Work_accident',\n",
    "    'promotion_last_5years', 'Department', 'salary'  # ✅ Use 'Department'\n",
    "]\n",
    "\n",
    "si = si[expected_cols]\n",
    "\n",
    "\n",
    "si = si[expected_cols]\n"
   ]
  },
  {
   "cell_type": "code",
   "execution_count": 8,
   "metadata": {},
   "outputs": [
    {
     "name": "stdout",
     "output_type": "stream",
     "text": [
      "Prediction (0 = stay, 1 = left): [1 0 1 1 0 1 1 1 0 1 1 1 1 1 1 1 1 1 1 1 1 1 1 1 1 0 0 1 1 1 1 1 1 1 1 1 1\n",
      " 1 1 1 1 1 1 1 1 1 1 1 1 1 1 1 1 1 1 1 1 1 1 1 1 1 1 1 1 1 1 1 1 1 1 1 0 1\n",
      " 1 1 1 1]\n"
     ]
    }
   ],
   "source": [
    "prediction = model.predict(si)\n",
    "print(f\"Prediction (0 = stay, 1 = left): {prediction}\")\n"
   ]
  },
  {
   "cell_type": "code",
   "execution_count": 9,
   "metadata": {},
   "outputs": [],
   "source": [
    "d={}"
   ]
  },
  {
   "cell_type": "code",
   "execution_count": 10,
   "metadata": {},
   "outputs": [],
   "source": [
    "import pandas as pd\n",
    "\n",
    "# Create a dictionary with correct keys and values\n",
    "d = {}\n",
    "d['satisfaction_level'] = 0.38\n",
    "d['last_evaluation'] = 0.53\n",
    "d['number_project'] = 2\n",
    "d['average_monthly_hours'] = 157\n",
    "d['time_spend_company'] = 3\n",
    "d['Work_accident'] = 0\n",
    "d['promotion_last_5years'] = 0\n",
    "d['Department'] = 7\n",
    "d['salary'] = 1\n",
    "\n",
    "\n"
   ]
  },
  {
   "cell_type": "code",
   "execution_count": 11,
   "metadata": {},
   "outputs": [
    {
     "name": "stdout",
     "output_type": "stream",
     "text": [
      "Prediction (0 = stay, 1 = left): [1]\n"
     ]
    }
   ],
   "source": [
    "\n",
    "\n",
    "# Convert to DataFrame\n",
    "input_df = pd.DataFrame([d])  # Wrap dictionary in a list\n",
    "\n",
    "# Make prediction\n",
    "prediction = model.predict(input_df)\n",
    "print(f\"Prediction (0 = stay, 1 = left): {prediction}\")"
   ]
  },
  {
   "cell_type": "code",
   "execution_count": null,
   "metadata": {},
   "outputs": [],
   "source": []
  },
  {
   "cell_type": "code",
   "execution_count": 12,
   "metadata": {},
   "outputs": [],
   "source": [
    "g=pd.DataFrame(d,index=[0])"
   ]
  },
  {
   "cell_type": "code",
   "execution_count": 13,
   "metadata": {},
   "outputs": [
    {
     "data": {
      "text/html": [
       "<div>\n",
       "<style scoped>\n",
       "    .dataframe tbody tr th:only-of-type {\n",
       "        vertical-align: middle;\n",
       "    }\n",
       "\n",
       "    .dataframe tbody tr th {\n",
       "        vertical-align: top;\n",
       "    }\n",
       "\n",
       "    .dataframe thead th {\n",
       "        text-align: right;\n",
       "    }\n",
       "</style>\n",
       "<table border=\"1\" class=\"dataframe\">\n",
       "  <thead>\n",
       "    <tr style=\"text-align: right;\">\n",
       "      <th></th>\n",
       "      <th>satisfaction_level</th>\n",
       "      <th>last_evaluation</th>\n",
       "      <th>number_project</th>\n",
       "      <th>average_monthly_hours</th>\n",
       "      <th>time_spend_company</th>\n",
       "      <th>Work_accident</th>\n",
       "      <th>promotion_last_5years</th>\n",
       "      <th>Department</th>\n",
       "      <th>salary</th>\n",
       "    </tr>\n",
       "  </thead>\n",
       "  <tbody>\n",
       "    <tr>\n",
       "      <th>0</th>\n",
       "      <td>0.38</td>\n",
       "      <td>0.53</td>\n",
       "      <td>2</td>\n",
       "      <td>157</td>\n",
       "      <td>3</td>\n",
       "      <td>0</td>\n",
       "      <td>0</td>\n",
       "      <td>7</td>\n",
       "      <td>1</td>\n",
       "    </tr>\n",
       "  </tbody>\n",
       "</table>\n",
       "</div>"
      ],
      "text/plain": [
       "   satisfaction_level  last_evaluation  number_project  average_monthly_hours  \\\n",
       "0                0.38             0.53               2                    157   \n",
       "\n",
       "   time_spend_company  Work_accident  promotion_last_5years  Department  \\\n",
       "0                   3              0                      0           7   \n",
       "\n",
       "   salary  \n",
       "0       1  "
      ]
     },
     "execution_count": 13,
     "metadata": {},
     "output_type": "execute_result"
    }
   ],
   "source": [
    "g"
   ]
  }
 ],
 "metadata": {
  "kernelspec": {
   "display_name": "Python 3",
   "language": "python",
   "name": "python3"
  },
  "language_info": {
   "codemirror_mode": {
    "name": "ipython",
    "version": 3
   },
   "file_extension": ".py",
   "mimetype": "text/x-python",
   "name": "python",
   "nbconvert_exporter": "python",
   "pygments_lexer": "ipython3",
   "version": "3.11.9"
  }
 },
 "nbformat": 4,
 "nbformat_minor": 2
}
